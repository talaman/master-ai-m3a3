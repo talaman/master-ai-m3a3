{
 "cells": [
  {
   "cell_type": "markdown",
   "metadata": {},
   "source": [
    "Estructuras y formato de los datos"
   ]
  },
  {
   "cell_type": "markdown",
   "metadata": {},
   "source": [
    "Instala los paquetes necesarios para leer los datos y visualizarlos."
   ]
  },
  {
   "cell_type": "code",
   "execution_count": 1,
   "metadata": {},
   "outputs": [
    {
     "name": "stdout",
     "output_type": "stream",
     "text": [
      "Defaulting to user installation because normal site-packages is not writeable\n",
      "Requirement already satisfied: pandas in /home/vscode/.local/lib/python3.10/site-packages (2.2.2)\n",
      "Requirement already satisfied: python-dateutil>=2.8.2 in /home/vscode/.local/lib/python3.10/site-packages (from pandas) (2.9.0.post0)\n",
      "Requirement already satisfied: pytz>=2020.1 in /home/vscode/.local/lib/python3.10/site-packages (from pandas) (2024.1)\n",
      "Requirement already satisfied: tzdata>=2022.7 in /home/vscode/.local/lib/python3.10/site-packages (from pandas) (2024.1)\n",
      "Requirement already satisfied: numpy>=1.22.4 in /home/vscode/.local/lib/python3.10/site-packages (from pandas) (2.0.1)\n",
      "Requirement already satisfied: six>=1.5 in /home/vscode/.local/lib/python3.10/site-packages (from python-dateutil>=2.8.2->pandas) (1.16.0)\n",
      "\n",
      "\u001b[1m[\u001b[0m\u001b[34;49mnotice\u001b[0m\u001b[1;39;49m]\u001b[0m\u001b[39;49m A new release of pip is available: \u001b[0m\u001b[31;49m23.0.1\u001b[0m\u001b[39;49m -> \u001b[0m\u001b[32;49m24.2\u001b[0m\n",
      "\u001b[1m[\u001b[0m\u001b[34;49mnotice\u001b[0m\u001b[1;39;49m]\u001b[0m\u001b[39;49m To update, run: \u001b[0m\u001b[32;49mpip install --upgrade pip\u001b[0m\n"
     ]
    }
   ],
   "source": [
    "! pip install pandas"
   ]
  },
  {
   "cell_type": "markdown",
   "metadata": {},
   "source": [
    "a. Utiliza un Jupyter Notebook y el paquete Pandas para abrir el archivo y \n",
    "presentarlo  en  formato  DataFrame,  donde  el  nombre  de  las  columnas \n",
    "debe corresponder con el nombre real de las variables."
   ]
  },
  {
   "cell_type": "code",
   "execution_count": 2,
   "metadata": {},
   "outputs": [
    {
     "data": {
      "text/html": [
       "<div>\n",
       "<style scoped>\n",
       "    .dataframe tbody tr th:only-of-type {\n",
       "        vertical-align: middle;\n",
       "    }\n",
       "\n",
       "    .dataframe tbody tr th {\n",
       "        vertical-align: top;\n",
       "    }\n",
       "\n",
       "    .dataframe thead th {\n",
       "        text-align: right;\n",
       "    }\n",
       "</style>\n",
       "<table border=\"1\" class=\"dataframe\">\n",
       "  <thead>\n",
       "    <tr style=\"text-align: right;\">\n",
       "      <th></th>\n",
       "      <th>age</th>\n",
       "      <th>sex</th>\n",
       "      <th>cp</th>\n",
       "      <th>trestbps</th>\n",
       "      <th>chol</th>\n",
       "      <th>fbs</th>\n",
       "      <th>restecg</th>\n",
       "      <th>thalach</th>\n",
       "      <th>exang</th>\n",
       "      <th>oldpeak</th>\n",
       "      <th>slope</th>\n",
       "      <th>ca</th>\n",
       "      <th>thal</th>\n",
       "      <th>num</th>\n",
       "    </tr>\n",
       "  </thead>\n",
       "  <tbody>\n",
       "    <tr>\n",
       "      <th>0</th>\n",
       "      <td>32</td>\n",
       "      <td>1</td>\n",
       "      <td>1</td>\n",
       "      <td>95.0</td>\n",
       "      <td>0</td>\n",
       "      <td>NaN</td>\n",
       "      <td>0.0</td>\n",
       "      <td>127.0</td>\n",
       "      <td>0.0</td>\n",
       "      <td>0.7</td>\n",
       "      <td>1.0</td>\n",
       "      <td>NaN</td>\n",
       "      <td>NaN</td>\n",
       "      <td>1</td>\n",
       "    </tr>\n",
       "    <tr>\n",
       "      <th>1</th>\n",
       "      <td>34</td>\n",
       "      <td>1</td>\n",
       "      <td>4</td>\n",
       "      <td>115.0</td>\n",
       "      <td>0</td>\n",
       "      <td>NaN</td>\n",
       "      <td>NaN</td>\n",
       "      <td>154.0</td>\n",
       "      <td>0.0</td>\n",
       "      <td>0.2</td>\n",
       "      <td>1.0</td>\n",
       "      <td>NaN</td>\n",
       "      <td>NaN</td>\n",
       "      <td>1</td>\n",
       "    </tr>\n",
       "    <tr>\n",
       "      <th>2</th>\n",
       "      <td>35</td>\n",
       "      <td>1</td>\n",
       "      <td>4</td>\n",
       "      <td>NaN</td>\n",
       "      <td>0</td>\n",
       "      <td>NaN</td>\n",
       "      <td>0.0</td>\n",
       "      <td>130.0</td>\n",
       "      <td>1.0</td>\n",
       "      <td>NaN</td>\n",
       "      <td>NaN</td>\n",
       "      <td>NaN</td>\n",
       "      <td>7.0</td>\n",
       "      <td>3</td>\n",
       "    </tr>\n",
       "    <tr>\n",
       "      <th>3</th>\n",
       "      <td>36</td>\n",
       "      <td>1</td>\n",
       "      <td>4</td>\n",
       "      <td>110.0</td>\n",
       "      <td>0</td>\n",
       "      <td>NaN</td>\n",
       "      <td>0.0</td>\n",
       "      <td>125.0</td>\n",
       "      <td>1.0</td>\n",
       "      <td>1.0</td>\n",
       "      <td>2.0</td>\n",
       "      <td>NaN</td>\n",
       "      <td>6.0</td>\n",
       "      <td>1</td>\n",
       "    </tr>\n",
       "    <tr>\n",
       "      <th>4</th>\n",
       "      <td>38</td>\n",
       "      <td>0</td>\n",
       "      <td>4</td>\n",
       "      <td>105.0</td>\n",
       "      <td>0</td>\n",
       "      <td>NaN</td>\n",
       "      <td>0.0</td>\n",
       "      <td>166.0</td>\n",
       "      <td>0.0</td>\n",
       "      <td>2.8</td>\n",
       "      <td>1.0</td>\n",
       "      <td>NaN</td>\n",
       "      <td>NaN</td>\n",
       "      <td>2</td>\n",
       "    </tr>\n",
       "  </tbody>\n",
       "</table>\n",
       "</div>"
      ],
      "text/plain": [
       "   age  sex  cp  trestbps  chol  fbs  restecg  thalach  exang  oldpeak  slope  \\\n",
       "0   32    1   1      95.0     0  NaN      0.0    127.0    0.0      0.7    1.0   \n",
       "1   34    1   4     115.0     0  NaN      NaN    154.0    0.0      0.2    1.0   \n",
       "2   35    1   4       NaN     0  NaN      0.0    130.0    1.0      NaN    NaN   \n",
       "3   36    1   4     110.0     0  NaN      0.0    125.0    1.0      1.0    2.0   \n",
       "4   38    0   4     105.0     0  NaN      0.0    166.0    0.0      2.8    1.0   \n",
       "\n",
       "   ca  thal  num  \n",
       "0 NaN   NaN    1  \n",
       "1 NaN   NaN    1  \n",
       "2 NaN   7.0    3  \n",
       "3 NaN   6.0    1  \n",
       "4 NaN   NaN    2  "
      ]
     },
     "execution_count": 2,
     "metadata": {},
     "output_type": "execute_result"
    }
   ],
   "source": [
    "import pandas as pd\n",
    "\n",
    "# Define the path to the dataset\n",
    "file_path = 'heart+disease/processed.switzerland.data'\n",
    "\n",
    "# Define the column names based on the dataset description\n",
    "column_names = [\n",
    "    'age', 'sex', 'cp', 'trestbps', 'chol', 'fbs', 'restecg', 'thalach', \n",
    "    'exang', 'oldpeak', 'slope', 'ca', 'thal', 'num'\n",
    "]\n",
    "\n",
    "# Read the dataset into a pandas DataFrame with specified encoding\n",
    "df = pd.read_csv(file_path, names=column_names, header=None,  encoding='latin1', na_values='?')\n",
    "\n",
    "# Display the first few rows of the DataFrame\n",
    "df.head()"
   ]
  },
  {
   "cell_type": "markdown",
   "metadata": {},
   "source": [
    "b. Analizando el DataFrame, señala las variables numéricas. Entre las \n",
    "variables numéricas señala cuáles son continuas y cuáles discretas."
   ]
  },
  {
   "cell_type": "code",
   "execution_count": 3,
   "metadata": {},
   "outputs": [
    {
     "name": "stdout",
     "output_type": "stream",
     "text": [
      "age: continua\n",
      "sex: discreta\n",
      "cp: discreta\n",
      "trestbps: continua\n",
      "chol: discreta\n",
      "fbs: discreta\n",
      "restecg: discreta\n",
      "thalach: continua\n",
      "exang: discreta\n",
      "oldpeak: continua\n",
      "slope: discreta\n",
      "ca: discreta\n",
      "thal: discreta\n",
      "num: discreta\n"
     ]
    }
   ],
   "source": [
    "# Get the numeric columns\n",
    "numeric_columns = df.select_dtypes(include=['int64', 'float64'])\n",
    "\n",
    "# Determine if the numeric columns are continuous or discrete\n",
    "variable_types = {}\n",
    "for column in numeric_columns.columns:\n",
    "    unique_values = numeric_columns[column].nunique()\n",
    "    if unique_values > 10:\n",
    "        variable_types[column] = 'continua'\n",
    "    else:\n",
    "        variable_types[column] = 'discreta'\n",
    "\n",
    "# Print the variable types\n",
    "for column, variable_type in variable_types.items():\n",
    "    print(f\"{column}: {variable_type}\")"
   ]
  },
  {
   "cell_type": "markdown",
   "metadata": {},
   "source": [
    "c. Analizando  el  DataFrame,  señala  las  variables  categóricas.  Entre  las \n",
    "variables categóricas señala cuáles son ordinales y cuáles nominales"
   ]
  },
  {
   "cell_type": "code",
   "execution_count": 4,
   "metadata": {},
   "outputs": [
    {
     "name": "stdout",
     "output_type": "stream",
     "text": [
      "sex: ordinal\n",
      "cp: ordinal\n",
      "fbs: ordinal\n",
      "restecg: ordinal\n",
      "exang: ordinal\n",
      "slope: ordinal\n",
      "ca: ordinal\n",
      "thal: ordinal\n",
      "num: ordinal\n"
     ]
    }
   ],
   "source": [
    "# Select the categorical columns\n",
    "categorical_columns = df[['sex', 'cp', 'fbs', 'restecg', 'exang', 'slope', 'ca', 'thal', 'num']]\n",
    "\n",
    "# Determine if the categorical columns are ordinal or nominal\n",
    "variable_types = {}\n",
    "for column in categorical_columns.columns:\n",
    "    unique_values = categorical_columns[column].nunique()\n",
    "    if unique_values > 10:\n",
    "        variable_types[column] = 'nominal'\n",
    "    else:\n",
    "        variable_types[column] = 'ordinal'\n",
    "\n",
    "# Print the variable types\n",
    "for column, variable_type in variable_types.items():\n",
    "    print(f\"{column}: {variable_type}\")"
   ]
  },
  {
   "cell_type": "markdown",
   "metadata": {},
   "source": [
    "d. ¿Hay  valores  faltantes  (missing  values)  en  el  dataset?  ¿Qué  símbolo  se \n",
    "utiliza para marcarlos? ¿Se utiliza más de un tipo de símbolo?"
   ]
  },
  {
   "cell_type": "markdown",
   "metadata": {},
   "source": [
    "R: \n",
    "\n",
    "Hay bastantes en varias columnas y el dataset usa '?' para representar los nulos. Por el momento no se he identificado otro símbolo para representar los nulos.\n",
    "\n",
    "He solicitado a pandas que los tome como nulos al leer el archivo con el argumento na_values='?',\n",
    "por lo que pandas los toma como nulos y los cuenta en el método isnull(). \n",
    "\n",
    "He aquí el conteo de nulos por columna:"
   ]
  },
  {
   "cell_type": "code",
   "execution_count": 5,
   "metadata": {},
   "outputs": [
    {
     "name": "stdout",
     "output_type": "stream",
     "text": [
      "age           0\n",
      "sex           0\n",
      "cp            0\n",
      "trestbps      2\n",
      "chol          0\n",
      "fbs          75\n",
      "restecg       1\n",
      "thalach       1\n",
      "exang         1\n",
      "oldpeak       6\n",
      "slope        17\n",
      "ca          118\n",
      "thal         52\n",
      "num           0\n",
      "dtype: int64\n"
     ]
    }
   ],
   "source": [
    "\n",
    "print(df.isnull().sum())"
   ]
  },
  {
   "cell_type": "markdown",
   "metadata": {},
   "source": [
    "e. Utilizando  métodos  de  Python,  obtén  la  lista  de  valores  posibles  que \n",
    "puede tomar la variable “thal”. ¿Se pueden ordenar estos valores en una \n",
    "escala de mayor a menor? ¿Podríamos considerarlos valores categóricos \n",
    "ordinales?"
   ]
  },
  {
   "cell_type": "code",
   "execution_count": 6,
   "metadata": {},
   "outputs": [
    {
     "name": "stdout",
     "output_type": "stream",
     "text": [
      "Unique values of 'thal': [nan  7.  6.  3.]\n",
      "Sorted values of 'thal': [np.float64(nan), np.float64(3.0), np.float64(6.0), np.float64(7.0)]\n",
      "Can 'thal' values be considered ordinal categorical values? True\n"
     ]
    }
   ],
   "source": [
    "# Get the unique values of the 'thal' column\n",
    "thal_values = df['thal'].unique()\n",
    "\n",
    "# Print the unique values\n",
    "print(\"Unique values of 'thal':\", thal_values)\n",
    "\n",
    "# Check if the values can be ordered\n",
    "sorted_thal_values = sorted(thal_values)\n",
    "print(\"Sorted values of 'thal':\", sorted_thal_values)\n",
    "\n",
    "# Determine if they can be considered ordinal\n",
    "# This is a domain-specific question, but let's assume we have some knowledge about the 'thal' values\n",
    "# For example, if 'thal' values are ['normal', 'fixed defect', 'reversible defect'], they can be considered ordinal\n",
    "ordinal_possible = True  # Set this based on your domain knowledge\n",
    "\n",
    "print(\"Can 'thal' values be considered ordinal categorical values?\", ordinal_possible)\n"
   ]
  },
  {
   "cell_type": "code",
   "execution_count": null,
   "metadata": {},
   "outputs": [],
   "source": []
  },
  {
   "cell_type": "code",
   "execution_count": null,
   "metadata": {},
   "outputs": [],
   "source": []
  },
  {
   "cell_type": "code",
   "execution_count": null,
   "metadata": {},
   "outputs": [],
   "source": []
  },
  {
   "cell_type": "code",
   "execution_count": null,
   "metadata": {},
   "outputs": [],
   "source": []
  },
  {
   "cell_type": "code",
   "execution_count": null,
   "metadata": {},
   "outputs": [],
   "source": []
  },
  {
   "cell_type": "code",
   "execution_count": null,
   "metadata": {},
   "outputs": [],
   "source": []
  },
  {
   "cell_type": "code",
   "execution_count": null,
   "metadata": {},
   "outputs": [],
   "source": []
  },
  {
   "cell_type": "code",
   "execution_count": null,
   "metadata": {},
   "outputs": [],
   "source": []
  },
  {
   "cell_type": "code",
   "execution_count": null,
   "metadata": {},
   "outputs": [],
   "source": []
  },
  {
   "cell_type": "code",
   "execution_count": 7,
   "metadata": {},
   "outputs": [],
   "source": [
    "# ! pip install ucimlrepo"
   ]
  },
  {
   "cell_type": "code",
   "execution_count": 8,
   "metadata": {},
   "outputs": [],
   "source": [
    "# from ucimlrepo import fetch_ucirepo \n",
    "  \n",
    "# # fetch dataset \n",
    "# heart_disease = fetch_ucirepo(id=45) \n",
    "  \n",
    "# # data (as pandas dataframes) \n",
    "# X = heart_disease.data.features \n",
    "# y = heart_disease.data.targets \n",
    "  \n",
    "# # metadata \n",
    "# print(heart_disease.metadata) \n",
    "  \n",
    "# # variable information \n",
    "# print(heart_disease.variables) \n",
    "\n",
    "# print(heart_disease.data)\n"
   ]
  }
 ],
 "metadata": {
  "kernelspec": {
   "display_name": "Python 3",
   "language": "python",
   "name": "python3"
  },
  "language_info": {
   "codemirror_mode": {
    "name": "ipython",
    "version": 3
   },
   "file_extension": ".py",
   "mimetype": "text/x-python",
   "name": "python",
   "nbconvert_exporter": "python",
   "pygments_lexer": "ipython3",
   "version": "3.10.14"
  }
 },
 "nbformat": 4,
 "nbformat_minor": 2
}
