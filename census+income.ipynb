{
 "cells": [
  {
   "cell_type": "code",
   "execution_count": 1,
   "metadata": {},
   "outputs": [
    {
     "name": "stdout",
     "output_type": "stream",
     "text": [
      "Defaulting to user installation because normal site-packages is not writeable\n",
      "Requirement already satisfied: pandas in /home/vscode/.local/lib/python3.10/site-packages (2.2.2)\n",
      "Requirement already satisfied: pytz>=2020.1 in /home/vscode/.local/lib/python3.10/site-packages (from pandas) (2024.1)\n",
      "Requirement already satisfied: python-dateutil>=2.8.2 in /home/vscode/.local/lib/python3.10/site-packages (from pandas) (2.9.0.post0)\n",
      "Requirement already satisfied: numpy>=1.22.4 in /home/vscode/.local/lib/python3.10/site-packages (from pandas) (2.0.1)\n",
      "Requirement already satisfied: tzdata>=2022.7 in /home/vscode/.local/lib/python3.10/site-packages (from pandas) (2024.1)\n",
      "Requirement already satisfied: six>=1.5 in /home/vscode/.local/lib/python3.10/site-packages (from python-dateutil>=2.8.2->pandas) (1.16.0)\n",
      "\n",
      "\u001b[1m[\u001b[0m\u001b[34;49mnotice\u001b[0m\u001b[1;39;49m]\u001b[0m\u001b[39;49m A new release of pip is available: \u001b[0m\u001b[31;49m23.0.1\u001b[0m\u001b[39;49m -> \u001b[0m\u001b[32;49m24.2\u001b[0m\n",
      "\u001b[1m[\u001b[0m\u001b[34;49mnotice\u001b[0m\u001b[1;39;49m]\u001b[0m\u001b[39;49m To update, run: \u001b[0m\u001b[32;49mpip install --upgrade pip\u001b[0m\n"
     ]
    }
   ],
   "source": [
    "! pip install pandas   "
   ]
  },
  {
   "cell_type": "markdown",
   "metadata": {},
   "source": [
    "a. Utiliza un Jupyter Notebook y el paquete Pandas para abrir el archivo y \n",
    "presentarlo  en  formato  DataFrame,  donde  el  nombre  de  las  columnas \n",
    "debe  corresponder  con  el  nombre  real  de  las  variables.  Señala  qué \n",
    "variables del DataFrame presentan valores faltantes (missing values)."
   ]
  },
  {
   "cell_type": "markdown",
   "metadata": {},
   "source": [
    "R: Los valores faltantes en el DataFrame se presentan en con el símbolo \"?\"."
   ]
  },
  {
   "cell_type": "code",
   "execution_count": 2,
   "metadata": {},
   "outputs": [
    {
     "data": {
      "text/html": [
       "<div>\n",
       "<style scoped>\n",
       "    .dataframe tbody tr th:only-of-type {\n",
       "        vertical-align: middle;\n",
       "    }\n",
       "\n",
       "    .dataframe tbody tr th {\n",
       "        vertical-align: top;\n",
       "    }\n",
       "\n",
       "    .dataframe thead th {\n",
       "        text-align: right;\n",
       "    }\n",
       "</style>\n",
       "<table border=\"1\" class=\"dataframe\">\n",
       "  <thead>\n",
       "    <tr style=\"text-align: right;\">\n",
       "      <th></th>\n",
       "      <th>age</th>\n",
       "      <th>workclass</th>\n",
       "      <th>fnlwgt</th>\n",
       "      <th>education</th>\n",
       "      <th>education-num</th>\n",
       "      <th>marital-status</th>\n",
       "      <th>occupation</th>\n",
       "      <th>relationship</th>\n",
       "      <th>race</th>\n",
       "      <th>sex</th>\n",
       "      <th>capital-gain</th>\n",
       "      <th>capital-loss</th>\n",
       "      <th>hours-per-week</th>\n",
       "      <th>native-country</th>\n",
       "      <th>income</th>\n",
       "    </tr>\n",
       "  </thead>\n",
       "  <tbody>\n",
       "    <tr>\n",
       "      <th>0</th>\n",
       "      <td>39</td>\n",
       "      <td>State-gov</td>\n",
       "      <td>77516</td>\n",
       "      <td>Bachelors</td>\n",
       "      <td>13</td>\n",
       "      <td>Never-married</td>\n",
       "      <td>Adm-clerical</td>\n",
       "      <td>Not-in-family</td>\n",
       "      <td>White</td>\n",
       "      <td>Male</td>\n",
       "      <td>2174</td>\n",
       "      <td>0</td>\n",
       "      <td>40</td>\n",
       "      <td>United-States</td>\n",
       "      <td>&lt;=50K</td>\n",
       "    </tr>\n",
       "    <tr>\n",
       "      <th>1</th>\n",
       "      <td>50</td>\n",
       "      <td>Self-emp-not-inc</td>\n",
       "      <td>83311</td>\n",
       "      <td>Bachelors</td>\n",
       "      <td>13</td>\n",
       "      <td>Married-civ-spouse</td>\n",
       "      <td>Exec-managerial</td>\n",
       "      <td>Husband</td>\n",
       "      <td>White</td>\n",
       "      <td>Male</td>\n",
       "      <td>0</td>\n",
       "      <td>0</td>\n",
       "      <td>13</td>\n",
       "      <td>United-States</td>\n",
       "      <td>&lt;=50K</td>\n",
       "    </tr>\n",
       "    <tr>\n",
       "      <th>2</th>\n",
       "      <td>38</td>\n",
       "      <td>Private</td>\n",
       "      <td>215646</td>\n",
       "      <td>HS-grad</td>\n",
       "      <td>9</td>\n",
       "      <td>Divorced</td>\n",
       "      <td>Handlers-cleaners</td>\n",
       "      <td>Not-in-family</td>\n",
       "      <td>White</td>\n",
       "      <td>Male</td>\n",
       "      <td>0</td>\n",
       "      <td>0</td>\n",
       "      <td>40</td>\n",
       "      <td>United-States</td>\n",
       "      <td>&lt;=50K</td>\n",
       "    </tr>\n",
       "    <tr>\n",
       "      <th>3</th>\n",
       "      <td>53</td>\n",
       "      <td>Private</td>\n",
       "      <td>234721</td>\n",
       "      <td>11th</td>\n",
       "      <td>7</td>\n",
       "      <td>Married-civ-spouse</td>\n",
       "      <td>Handlers-cleaners</td>\n",
       "      <td>Husband</td>\n",
       "      <td>Black</td>\n",
       "      <td>Male</td>\n",
       "      <td>0</td>\n",
       "      <td>0</td>\n",
       "      <td>40</td>\n",
       "      <td>United-States</td>\n",
       "      <td>&lt;=50K</td>\n",
       "    </tr>\n",
       "    <tr>\n",
       "      <th>4</th>\n",
       "      <td>28</td>\n",
       "      <td>Private</td>\n",
       "      <td>338409</td>\n",
       "      <td>Bachelors</td>\n",
       "      <td>13</td>\n",
       "      <td>Married-civ-spouse</td>\n",
       "      <td>Prof-specialty</td>\n",
       "      <td>Wife</td>\n",
       "      <td>Black</td>\n",
       "      <td>Female</td>\n",
       "      <td>0</td>\n",
       "      <td>0</td>\n",
       "      <td>40</td>\n",
       "      <td>Cuba</td>\n",
       "      <td>&lt;=50K</td>\n",
       "    </tr>\n",
       "  </tbody>\n",
       "</table>\n",
       "</div>"
      ],
      "text/plain": [
       "   age          workclass  fnlwgt   education  education-num  \\\n",
       "0   39          State-gov   77516   Bachelors             13   \n",
       "1   50   Self-emp-not-inc   83311   Bachelors             13   \n",
       "2   38            Private  215646     HS-grad              9   \n",
       "3   53            Private  234721        11th              7   \n",
       "4   28            Private  338409   Bachelors             13   \n",
       "\n",
       "        marital-status          occupation    relationship    race      sex  \\\n",
       "0        Never-married        Adm-clerical   Not-in-family   White     Male   \n",
       "1   Married-civ-spouse     Exec-managerial         Husband   White     Male   \n",
       "2             Divorced   Handlers-cleaners   Not-in-family   White     Male   \n",
       "3   Married-civ-spouse   Handlers-cleaners         Husband   Black     Male   \n",
       "4   Married-civ-spouse      Prof-specialty            Wife   Black   Female   \n",
       "\n",
       "   capital-gain  capital-loss  hours-per-week  native-country  income  \n",
       "0          2174             0              40   United-States   <=50K  \n",
       "1             0             0              13   United-States   <=50K  \n",
       "2             0             0              40   United-States   <=50K  \n",
       "3             0             0              40   United-States   <=50K  \n",
       "4             0             0              40            Cuba   <=50K  "
      ]
     },
     "execution_count": 2,
     "metadata": {},
     "output_type": "execute_result"
    }
   ],
   "source": [
    "import pandas as pd\n",
    "\n",
    "# Define the path to the dataset\n",
    "file_path = 'census+income/adult.data'\n",
    "\n",
    "# Define the column names based on the dataset description\n",
    "column_names = [\n",
    "    'age', 'workclass', 'fnlwgt', 'education', 'education-num', 'marital-status', \n",
    "    'occupation', 'relationship', 'race', 'sex', 'capital-gain', 'capital-loss', \n",
    "    'hours-per-week', 'native-country', 'income'\n",
    "]\n",
    "\n",
    "# Read the dataset into a pandas DataFrame with specified encoding\n",
    "df = pd.read_csv(file_path, names=column_names, header=None, encoding='latin1', na_values='?')\n",
    "\n",
    "# Display the first few rows of the DataFrame\n",
    "df.head()"
   ]
  },
  {
   "cell_type": "markdown",
   "metadata": {},
   "source": [
    "b. Analizando el DataFrame, señala las variables numéricas y categóricas, \n",
    "especificando si son continuas, discretas, ordinales o nominales. "
   ]
  },
  {
   "cell_type": "code",
   "execution_count": 3,
   "metadata": {},
   "outputs": [
    {
     "name": "stdout",
     "output_type": "stream",
     "text": [
      "age: continua\n",
      "fnlwgt: continua\n",
      "education-num: continua\n",
      "capital-gain: continua\n",
      "capital-loss: continua\n",
      "hours-per-week: continua\n",
      "workclass: ordinal\n",
      "education: nominal\n",
      "marital-status: ordinal\n",
      "occupation: nominal\n",
      "relationship: ordinal\n",
      "race: ordinal\n",
      "sex: ordinal\n",
      "native-country: nominal\n",
      "income: ordinal\n"
     ]
    }
   ],
   "source": [
    "# Classify the variables\n",
    "variable_types = {}\n",
    "\n",
    "# Numerical variables\n",
    "numerical_columns = df.select_dtypes(include=['int64', 'float64'])\n",
    "for column in numerical_columns.columns:\n",
    "    unique_values = numerical_columns[column].nunique()\n",
    "    if unique_values > 10:\n",
    "        variable_types[column] = 'continua'\n",
    "    else:\n",
    "        variable_types[column] = 'discreta'\n",
    "\n",
    "# Categorical variables\n",
    "categorical_columns = df.select_dtypes(include=['object'])\n",
    "for column in categorical_columns.columns:\n",
    "    unique_values = categorical_columns[column].nunique()\n",
    "    if unique_values > 10:\n",
    "        variable_types[column] = 'nominal'\n",
    "    else:\n",
    "        variable_types[column] = 'ordinal'\n",
    "\n",
    "# Print the variable types\n",
    "for column, variable_type in variable_types.items():\n",
    "    print(f\"{column}: {variable_type}\")"
   ]
  },
  {
   "cell_type": "markdown",
   "metadata": {},
   "source": [
    "c. Utilizando  métodos  de  Python,  deduce  si  hay  registros  repetidos  en  el \n",
    "dataset.  ¿Cuántos  elementos  hay  en  el  DataFrame  original?  ¿Cuántos \n",
    "elementos repetidos hay? ¿Cuántos elementos únicos? \n"
   ]
  },
  {
   "cell_type": "code",
   "execution_count": 4,
   "metadata": {},
   "outputs": [
    {
     "name": "stdout",
     "output_type": "stream",
     "text": [
      "Number of original elements: 32561\n",
      "Number of duplicate elements: 24\n",
      "Number of unique elements: 32537\n"
     ]
    }
   ],
   "source": [
    "# Check for duplicate records\n",
    "duplicate_records = df.duplicated()\n",
    "\n",
    "# Number of original elements\n",
    "original_elements = len(df)\n",
    "\n",
    "# Number of duplicate elements\n",
    "duplicate_elements = duplicate_records.sum()\n",
    "\n",
    "# Number of unique elements\n",
    "unique_elements = original_elements - duplicate_elements\n",
    "\n",
    "# Print the results\n",
    "print(f\"Number of original elements: {original_elements}\")\n",
    "print(f\"Number of duplicate elements: {duplicate_elements}\")\n",
    "print(f\"Number of unique elements: {unique_elements}\")"
   ]
  },
  {
   "cell_type": "markdown",
   "metadata": {},
   "source": [
    "e. Utilizando métodos de Python, obtén un DataFrame llamado df_dup en \n",
    "el que estén los elementos repetidos del DataFrame original. ¿Cuántos de \n",
    "ellos  tienen  un  país  de  origen  indeterminado?  ¿Cuál  es  la  proporción \n",
    "entre mujeres y hombres? ¿Cuántos cobran más de 50 mil dólares? "
   ]
  },
  {
   "cell_type": "code",
   "execution_count": 5,
   "metadata": {},
   "outputs": [
    {
     "name": "stdout",
     "output_type": "stream",
     "text": [
      "Number of duplicated records with an indeterminate country of origin: 0\n",
      "Proportion between women and men:\n",
      "sex\n",
      "Male      0.625\n",
      "Female    0.375\n",
      "Name: proportion, dtype: float64\n",
      "Number of duplicated records with income greater than 50K: 2\n"
     ]
    }
   ],
   "source": [
    "# Get the duplicated records\n",
    "df_dup = df[df.duplicated()]\n",
    "\n",
    "# Number of duplicated records with an indeterminate country of origin\n",
    "indeterminate_country_count = df_dup[df_dup['native-country'].isna()].shape[0]\n",
    "\n",
    "# Proportion between women and men\n",
    "gender_proportion = df_dup['sex'].value_counts(normalize=True)\n",
    "\n",
    "# Number of duplicated records with income greater than 50K\n",
    "high_income_count = df_dup[df_dup['income'] == ' >50K'].shape[0]\n",
    "\n",
    "# Print the results\n",
    "print(f\"Number of duplicated records with an indeterminate country of origin: {indeterminate_country_count}\")\n",
    "print(f\"Proportion between women and men:\\n{gender_proportion}\")\n",
    "print(f\"Number of duplicated records with income greater than 50K: {high_income_count}\")"
   ]
  },
  {
   "cell_type": "markdown",
   "metadata": {},
   "source": [
    "f. Busca en internet el significado de la variable “fnlwgt”. ¿Qué representa? \n",
    "Conociendo su significado, ¿crees que tiene sentido, desde un punto de \n",
    "vista  de  Machine  Learning,  eliminar  los  registros  duplicados  en  este \n",
    "dataset?"
   ]
  },
  {
   "cell_type": "markdown",
   "metadata": {},
   "source": [
    "La variable fnlwgt (final weight) es una variable utilizada en el conjunto de datos del censo para indicar el número de personas en la población que cada registro representa. Es un peso calculado por la Oficina del Censo de los Estados Unidos para ajustar la muestra del censo a la población total.\n",
    "\n",
    "Significado de fnlwgt\n",
    "fnlwgt representa el peso final de la muestra, que se utiliza para hacer inferencias sobre la población total a partir de la muestra del censo. Este peso se calcula teniendo en cuenta varios factores, como la probabilidad de selección, ajustes por no respuesta y ajustes para que las estimaciones coincidan con las poblaciones conocidas.\n",
    "\n",
    "Consideraciones para eliminar registros duplicados\n",
    "Desde un punto de vista de Machine Learning, eliminar registros duplicados puede ser problemático si no se considera adecuadamente el significado de fnlwgt. Dado que fnlwgt ajusta la muestra para representar la población total, eliminar registros duplicados sin ajustar los pesos puede sesgar los resultados.\n",
    "\n",
    "Conclusión\n",
    "Eliminar registros duplicados en este dataset puede no ser apropiado sin un análisis cuidadoso. En lugar de eliminar duplicados, podrías considerar ajustar los pesos (fnlwgt) para reflejar correctamente la población representada por los registros duplicados.\n"
   ]
  },
  {
   "cell_type": "code",
   "execution_count": 6,
   "metadata": {},
   "outputs": [
    {
     "name": "stdout",
     "output_type": "stream",
     "text": [
      "Number of original elements: 32561\n",
      "Number of duplicate elements: 24\n",
      "Number of unique elements: 32537\n",
      "Number of duplicated records with an indeterminate country of origin: 0\n",
      "Proportion between women and men:\n",
      "sex\n",
      "Male      0.625\n",
      "Female    0.375\n",
      "Name: proportion, dtype: float64\n",
      "Number of duplicated records with income greater than 50K: 2\n"
     ]
    }
   ],
   "source": [
    "# Check for duplicate records\n",
    "duplicate_records = df.duplicated()\n",
    "\n",
    "# Number of original elements\n",
    "original_elements = len(df)\n",
    "\n",
    "# Number of duplicate elements\n",
    "duplicate_elements = duplicate_records.sum()\n",
    "\n",
    "# Number of unique elements\n",
    "unique_elements = original_elements - duplicate_elements\n",
    "\n",
    "# Get the duplicated records\n",
    "df_dup = df[df.duplicated()]\n",
    "\n",
    "# Number of duplicated records with an indeterminate country of origin\n",
    "indeterminate_country_count = df_dup[df_dup['native-country'].isna()].shape[0]\n",
    "\n",
    "# Proportion between women and men\n",
    "gender_proportion = df_dup['sex'].value_counts(normalize=True)\n",
    "\n",
    "# Number of duplicated records with income greater than 50K\n",
    "high_income_count = df_dup[df_dup['income'] == ' >50K'].shape[0]\n",
    "\n",
    "# Print the results\n",
    "print(f\"Number of original elements: {original_elements}\")\n",
    "print(f\"Number of duplicate elements: {duplicate_elements}\")\n",
    "print(f\"Number of unique elements: {unique_elements}\")\n",
    "print(f\"Number of duplicated records with an indeterminate country of origin: {indeterminate_country_count}\")\n",
    "print(f\"Proportion between women and men:\\n{gender_proportion}\")\n",
    "print(f\"Number of duplicated records with income greater than 50K: {high_income_count}\")"
   ]
  },
  {
   "cell_type": "markdown",
   "metadata": {},
   "source": [
    "g. ¿Qué  dificultades has encontrado a la hora de  trabajar  con los  valores \n",
    "de las variables de este dataset? ¿Sería apropiado buscar  una manera \n",
    "automática,  usando  métodos  de  Python,  de  eliminar  esa  dificultad  o \n",
    "dificultades?  ¿Se  te  ocurre  cómo  hacerlo?  (En  este  apartado  no  hace \n",
    "falta escribir código, basta con responder en texto detallando las ideas)."
   ]
  },
  {
   "cell_type": "markdown",
   "metadata": {},
   "source": [
    "### Dificultades al trabajar con los valores de las variables del dataset\n",
    "\n",
    "1. **Valores faltantes**:\n",
    "   - Algunas variables pueden tener valores faltantes representados por `?` o `NaN`.\n",
    "   - Esto puede afectar el análisis y los modelos de Machine Learning si no se manejan adecuadamente.\n",
    "\n",
    "2. **Valores categóricos**:\n",
    "   - Las variables categóricas pueden tener muchas categorías diferentes, lo que puede complicar su codificación.\n",
    "   - Algunas categorías pueden estar mal etiquetadas o tener errores tipográficos.\n",
    "\n",
    "3. **Valores atípicos**:\n",
    "   - Algunas variables numéricas pueden tener valores atípicos que pueden distorsionar el análisis y los modelos.\n",
    "\n",
    "4. **Duplicados**:\n",
    "   - La presencia de registros duplicados puede sesgar los resultados si no se manejan correctamente.\n",
    "\n",
    "5. **Escalado de variables**:\n",
    "   - Las variables numéricas pueden tener diferentes escalas, lo que puede afectar los algoritmos de Machine Learning que son sensibles a la escala.\n",
    "\n",
    "### Métodos automáticos para eliminar dificultades\n",
    "\n",
    "1. **Manejo de valores faltantes**:\n",
    "   - Usar métodos de imputación para rellenar los valores faltantes, como la media, mediana o el valor más frecuente.\n",
    "   - Alternativamente, eliminar los registros con valores faltantes si la proporción es pequeña.\n",
    "\n",
    "2. **Codificación de valores categóricos**:\n",
    "   - Utilizar técnicas de codificación como One-Hot Encoding para variables categóricas nominales.\n",
    "   - Para variables ordinales, usar Ordinal Encoding.\n",
    "   - Detectar y corregir errores tipográficos en las categorías.\n",
    "\n",
    "3. **Detección y manejo de valores atípicos**:\n",
    "   - Utilizar métodos estadísticos o algoritmos de detección de anomalías para identificar y manejar valores atípicos.\n",
    "   - Transformar los datos para reducir el impacto de los valores atípicos.\n",
    "\n",
    "4. **Manejo de duplicados**:\n",
    "   - Identificar y eliminar registros duplicados, asegurándose de ajustar los pesos (`fnlwgt`) si es necesario.\n",
    "\n",
    "5. **Escalado de variables**:\n",
    "   - Normalizar o estandarizar las variables numéricas para que tengan una escala comparable.\n",
    "\n",
    "### Ideas para implementar en Python\n",
    "\n",
    "- **Valores faltantes**: Usar `df.fillna()` o `SimpleImputer` de `sklearn` para imputar valores faltantes.\n",
    "- **Codificación de valores categóricos**: Usar `pd.get_dummies()` para One-Hot Encoding o `OrdinalEncoder` de `sklearn`.\n",
    "- **Detección de valores atípicos**: Usar el método `z-score` o `IsolationForest` de `sklearn` para detectar y manejar valores atípicos.\n",
    "- **Manejo de duplicados**: Usar `df.drop_duplicates()` para eliminar duplicados y ajustar `fnlwgt` si es necesario.\n",
    "- **Escalado de variables**: Usar `StandardScaler` o `MinMaxScaler` de `sklearn` para normalizar o estandarizar las variables.\n",
    "\n",
    "Implementar estos métodos automáticos en Python puede ayudar a eliminar las dificultades y mejorar la calidad del análisis y los modelos de Machine Learning."
   ]
  },
  {
   "cell_type": "code",
   "execution_count": null,
   "metadata": {},
   "outputs": [],
   "source": []
  }
 ],
 "metadata": {
  "kernelspec": {
   "display_name": "Python 3",
   "language": "python",
   "name": "python3"
  },
  "language_info": {
   "codemirror_mode": {
    "name": "ipython",
    "version": 3
   },
   "file_extension": ".py",
   "mimetype": "text/x-python",
   "name": "python",
   "nbconvert_exporter": "python",
   "pygments_lexer": "ipython3",
   "version": "3.10.14"
  }
 },
 "nbformat": 4,
 "nbformat_minor": 2
}
