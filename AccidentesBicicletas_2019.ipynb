{
 "cells": [
  {
   "cell_type": "markdown",
   "metadata": {},
   "source": [
    "# Ejercicio 3: Accidentes de Bicicleta en Madrid"
   ]
  },
  {
   "cell_type": "markdown",
   "metadata": {},
   "source": [
    "Instala los paquetes necesarios"
   ]
  },
  {
   "cell_type": "code",
   "execution_count": 1,
   "metadata": {},
   "outputs": [
    {
     "name": "stdout",
     "output_type": "stream",
     "text": [
      "Defaulting to user installation because normal site-packages is not writeable\n",
      "Requirement already satisfied: pandas in /home/vscode/.local/lib/python3.10/site-packages (2.2.2)\n",
      "Requirement already satisfied: openpyxl in /home/vscode/.local/lib/python3.10/site-packages (3.1.5)\n",
      "Requirement already satisfied: pytz>=2020.1 in /home/vscode/.local/lib/python3.10/site-packages (from pandas) (2024.1)\n",
      "Requirement already satisfied: numpy>=1.22.4 in /home/vscode/.local/lib/python3.10/site-packages (from pandas) (2.0.1)\n",
      "Requirement already satisfied: python-dateutil>=2.8.2 in /home/vscode/.local/lib/python3.10/site-packages (from pandas) (2.9.0.post0)\n",
      "Requirement already satisfied: tzdata>=2022.7 in /home/vscode/.local/lib/python3.10/site-packages (from pandas) (2024.1)\n",
      "Requirement already satisfied: et-xmlfile in /home/vscode/.local/lib/python3.10/site-packages (from openpyxl) (1.1.0)\n",
      "Requirement already satisfied: six>=1.5 in /home/vscode/.local/lib/python3.10/site-packages (from python-dateutil>=2.8.2->pandas) (1.16.0)\n",
      "\n",
      "\u001b[1m[\u001b[0m\u001b[34;49mnotice\u001b[0m\u001b[1;39;49m]\u001b[0m\u001b[39;49m A new release of pip is available: \u001b[0m\u001b[31;49m23.0.1\u001b[0m\u001b[39;49m -> \u001b[0m\u001b[32;49m24.2\u001b[0m\n",
      "\u001b[1m[\u001b[0m\u001b[34;49mnotice\u001b[0m\u001b[1;39;49m]\u001b[0m\u001b[39;49m To update, run: \u001b[0m\u001b[32;49mpip install --upgrade pip\u001b[0m\n"
     ]
    }
   ],
   "source": [
    "! pip install pandas openpyxl"
   ]
  },
  {
   "cell_type": "markdown",
   "metadata": {},
   "source": [
    "3. Utiliza  el  siguiente  enlace  para  descargar  el  conjunto  de  datos  del  Portal  de \n",
    "Datos  Abiertos  del  Ayuntamiento  de  Madrid  sobre  accidentes  de  bicicletas \n",
    "correspondiente al año 2019.  Utiliza un Jupyter Notebook y el paquete Pandas \n",
    "para abrir el archivo y presentarlo en formato DataFrame, donde el nombre de \n",
    "las columnas debe corresponder con el nombre real de las variables. \n",
    " "
   ]
  },
  {
   "cell_type": "code",
   "execution_count": 2,
   "metadata": {},
   "outputs": [
    {
     "data": {
      "text/html": [
       "<div>\n",
       "<style scoped>\n",
       "    .dataframe tbody tr th:only-of-type {\n",
       "        vertical-align: middle;\n",
       "    }\n",
       "\n",
       "    .dataframe tbody tr th {\n",
       "        vertical-align: top;\n",
       "    }\n",
       "\n",
       "    .dataframe thead th {\n",
       "        text-align: right;\n",
       "    }\n",
       "</style>\n",
       "<table border=\"1\" class=\"dataframe\">\n",
       "  <thead>\n",
       "    <tr style=\"text-align: right;\">\n",
       "      <th></th>\n",
       "      <th>num_expediente</th>\n",
       "      <th>fecha</th>\n",
       "      <th>hora</th>\n",
       "      <th>localizacion</th>\n",
       "      <th>numero</th>\n",
       "      <th>cod_distrito</th>\n",
       "      <th>distrito</th>\n",
       "      <th>tipo_accidente</th>\n",
       "      <th>estado_meteorológico</th>\n",
       "      <th>tipo_vehículo</th>\n",
       "      <th>tipo_persona</th>\n",
       "      <th>rango_edad</th>\n",
       "      <th>sexo</th>\n",
       "      <th>cod_lesividad</th>\n",
       "      <th>tipo_lesividad</th>\n",
       "      <th>coordenada_x_utm</th>\n",
       "      <th>coordenada_y_utm</th>\n",
       "      <th>positiva_alcohol</th>\n",
       "      <th>positiva_droga</th>\n",
       "    </tr>\n",
       "  </thead>\n",
       "  <tbody>\n",
       "    <tr>\n",
       "      <th>0</th>\n",
       "      <td>2019S000036</td>\n",
       "      <td>02/01/2019</td>\n",
       "      <td>20:45:00</td>\n",
       "      <td>AVDA. GRAN VIA DE HORTALEZA / GTA. LUIS ROSALES</td>\n",
       "      <td>65B</td>\n",
       "      <td>16</td>\n",
       "      <td>HORTALEZA</td>\n",
       "      <td>Colisión fronto-lateral</td>\n",
       "      <td>Despejado</td>\n",
       "      <td>Bicicleta</td>\n",
       "      <td>Conductor</td>\n",
       "      <td>De 70 a 74 años</td>\n",
       "      <td>Hombre</td>\n",
       "      <td>3.0</td>\n",
       "      <td>Ingreso superior a 24 horas</td>\n",
       "      <td>444.591.127</td>\n",
       "      <td>4.479.784.701</td>\n",
       "      <td>N</td>\n",
       "      <td>NaN</td>\n",
       "    </tr>\n",
       "    <tr>\n",
       "      <th>1</th>\n",
       "      <td>2019S000045</td>\n",
       "      <td>03/01/2019</td>\n",
       "      <td>10:30:00</td>\n",
       "      <td>CTRA. DEHESA DE LA VILLA, 1</td>\n",
       "      <td>1</td>\n",
       "      <td>9</td>\n",
       "      <td>MONCLOA-ARAVACA</td>\n",
       "      <td>Caída</td>\n",
       "      <td>Despejado</td>\n",
       "      <td>Bicicleta</td>\n",
       "      <td>Conductor</td>\n",
       "      <td>De 15 a 17 años</td>\n",
       "      <td>Hombre</td>\n",
       "      <td>2.0</td>\n",
       "      <td>Ingreso inferior o igual a 24 horas</td>\n",
       "      <td>438.315.991</td>\n",
       "      <td>4.478.761.412</td>\n",
       "      <td>N</td>\n",
       "      <td>NaN</td>\n",
       "    </tr>\n",
       "    <tr>\n",
       "      <th>2</th>\n",
       "      <td>2019S000132</td>\n",
       "      <td>03/01/2019</td>\n",
       "      <td>12:45:00</td>\n",
       "      <td>AVDA. SANTA EUGENIA / CALL. REAL DE ARGANDA</td>\n",
       "      <td>64</td>\n",
       "      <td>18</td>\n",
       "      <td>VILLA DE VALLECAS</td>\n",
       "      <td>Alcance</td>\n",
       "      <td>Despejado</td>\n",
       "      <td>Bicicleta</td>\n",
       "      <td>Conductor</td>\n",
       "      <td>De 18 a 20 años</td>\n",
       "      <td>Hombre</td>\n",
       "      <td>7.0</td>\n",
       "      <td>Asistencia sanitaria sólo en el lugar del acci...</td>\n",
       "      <td>448.366.684</td>\n",
       "      <td>4.469.893.796</td>\n",
       "      <td>N</td>\n",
       "      <td>NaN</td>\n",
       "    </tr>\n",
       "    <tr>\n",
       "      <th>3</th>\n",
       "      <td>2019S000132</td>\n",
       "      <td>03/01/2019</td>\n",
       "      <td>12:45:00</td>\n",
       "      <td>AVDA. SANTA EUGENIA / CALL. REAL DE ARGANDA</td>\n",
       "      <td>64</td>\n",
       "      <td>18</td>\n",
       "      <td>VILLA DE VALLECAS</td>\n",
       "      <td>Alcance</td>\n",
       "      <td>Despejado</td>\n",
       "      <td>Bicicleta</td>\n",
       "      <td>Conductor</td>\n",
       "      <td>De 21 a 24 años</td>\n",
       "      <td>Hombre</td>\n",
       "      <td>14.0</td>\n",
       "      <td>Sin asistencia sanitaria</td>\n",
       "      <td>448.366.684</td>\n",
       "      <td>4.469.893.796</td>\n",
       "      <td>N</td>\n",
       "      <td>NaN</td>\n",
       "    </tr>\n",
       "    <tr>\n",
       "      <th>4</th>\n",
       "      <td>2019S000133</td>\n",
       "      <td>03/01/2019</td>\n",
       "      <td>14:30:00</td>\n",
       "      <td>CALL. FELIPE ALVAREZ, 10</td>\n",
       "      <td>10</td>\n",
       "      <td>18</td>\n",
       "      <td>VILLA DE VALLECAS</td>\n",
       "      <td>Alcance</td>\n",
       "      <td>Se desconoce</td>\n",
       "      <td>Bicicleta</td>\n",
       "      <td>Conductor</td>\n",
       "      <td>De 15 a 17 años</td>\n",
       "      <td>Hombre</td>\n",
       "      <td>7.0</td>\n",
       "      <td>Asistencia sanitaria sólo en el lugar del acci...</td>\n",
       "      <td>447.078.477</td>\n",
       "      <td>4.470.344.997</td>\n",
       "      <td>N</td>\n",
       "      <td>NaN</td>\n",
       "    </tr>\n",
       "  </tbody>\n",
       "</table>\n",
       "</div>"
      ],
      "text/plain": [
       "  num_expediente       fecha      hora  \\\n",
       "0    2019S000036  02/01/2019  20:45:00   \n",
       "1    2019S000045  03/01/2019  10:30:00   \n",
       "2    2019S000132  03/01/2019  12:45:00   \n",
       "3    2019S000132  03/01/2019  12:45:00   \n",
       "4    2019S000133  03/01/2019  14:30:00   \n",
       "\n",
       "                                      localizacion numero  cod_distrito  \\\n",
       "0  AVDA. GRAN VIA DE HORTALEZA / GTA. LUIS ROSALES    65B            16   \n",
       "1                      CTRA. DEHESA DE LA VILLA, 1      1             9   \n",
       "2      AVDA. SANTA EUGENIA / CALL. REAL DE ARGANDA     64            18   \n",
       "3      AVDA. SANTA EUGENIA / CALL. REAL DE ARGANDA     64            18   \n",
       "4                         CALL. FELIPE ALVAREZ, 10     10            18   \n",
       "\n",
       "            distrito           tipo_accidente estado_meteorológico  \\\n",
       "0          HORTALEZA  Colisión fronto-lateral            Despejado   \n",
       "1    MONCLOA-ARAVACA                    Caída            Despejado   \n",
       "2  VILLA DE VALLECAS                  Alcance            Despejado   \n",
       "3  VILLA DE VALLECAS                  Alcance            Despejado   \n",
       "4  VILLA DE VALLECAS                  Alcance         Se desconoce   \n",
       "\n",
       "  tipo_vehículo tipo_persona       rango_edad    sexo  cod_lesividad  \\\n",
       "0     Bicicleta    Conductor  De 70 a 74 años  Hombre            3.0   \n",
       "1     Bicicleta    Conductor  De 15 a 17 años  Hombre            2.0   \n",
       "2     Bicicleta    Conductor  De 18 a 20 años  Hombre            7.0   \n",
       "3     Bicicleta    Conductor  De 21 a 24 años  Hombre           14.0   \n",
       "4     Bicicleta    Conductor  De 15 a 17 años  Hombre            7.0   \n",
       "\n",
       "                                      tipo_lesividad coordenada_x_utm  \\\n",
       "0                        Ingreso superior a 24 horas      444.591.127   \n",
       "1                Ingreso inferior o igual a 24 horas      438.315.991   \n",
       "2  Asistencia sanitaria sólo en el lugar del acci...      448.366.684   \n",
       "3                           Sin asistencia sanitaria      448.366.684   \n",
       "4  Asistencia sanitaria sólo en el lugar del acci...      447.078.477   \n",
       "\n",
       "  coordenada_y_utm positiva_alcohol  positiva_droga  \n",
       "0    4.479.784.701                N             NaN  \n",
       "1    4.478.761.412                N             NaN  \n",
       "2    4.469.893.796                N             NaN  \n",
       "3    4.469.893.796                N             NaN  \n",
       "4    4.470.344.997                N             NaN  "
      ]
     },
     "execution_count": 2,
     "metadata": {},
     "output_type": "execute_result"
    }
   ],
   "source": [
    "import pandas as pd\n",
    "\n",
    "# Definir la ruta al conjunto de datos\n",
    "file_path = 'AccidentesBicicletas_2019.csv'\n",
    "\n",
    "# Leer el conjunto de datos en un DataFrame de pandas\n",
    "df = pd.read_csv(file_path, delimiter=';', na_values='NULL')\n",
    "\n",
    "# Mostrar las primeras filas del DataFrame\n",
    "df.head()"
   ]
  },
  {
   "cell_type": "markdown",
   "metadata": {},
   "source": [
    "a.  Analizando el DataFrame, señala las variables numéricas y categóricas, \n",
    "especificando si son continuas, discretas, ordinales o nominales. \n",
    "\n"
   ]
  },
  {
   "cell_type": "code",
   "execution_count": 3,
   "metadata": {},
   "outputs": [
    {
     "name": "stdout",
     "output_type": "stream",
     "text": [
      "cod_distrito: continua\n",
      "cod_lesividad: discreta\n",
      "positiva_droga: discreta\n",
      "num_expediente: nominal\n",
      "fecha: nominal\n",
      "hora: nominal\n",
      "localizacion: nominal\n",
      "numero: nominal\n",
      "distrito: nominal\n",
      "tipo_accidente: nominal\n",
      "estado_meteorológico: nominal\n",
      "tipo_vehículo: nominal\n",
      "tipo_persona: nominal\n",
      "rango_edad: nominal\n",
      "sexo: nominal\n",
      "tipo_lesividad: nominal\n",
      "coordenada_x_utm: nominal\n",
      "coordenada_y_utm: nominal\n",
      "positiva_alcohol: nominal\n"
     ]
    }
   ],
   "source": [
    "# Clasificar las variables\n",
    "variable_types = {}\n",
    "\n",
    "# Variables numéricas\n",
    "numerical_columns = df.select_dtypes(include=['int64', 'float64'])\n",
    "for column in numerical_columns.columns:\n",
    "    unique_values = numerical_columns[column].nunique()\n",
    "    if unique_values > 10:\n",
    "        variable_types[column] = 'continua'\n",
    "    else:\n",
    "        variable_types[column] = 'discreta'\n",
    "\n",
    "# Variables categóricas\n",
    "categorical_columns = df.select_dtypes(include=['object'])\n",
    "\n",
    "# Definir manualmente las variables ordinales conocidas\n",
    "ordinal_columns = ['TRAMO EDAD', 'TIPO ACCIDENTE', 'LESIVIDAD']  # Ejemplo de columnas ordinales conocidas\n",
    "\n",
    "for column in categorical_columns.columns:\n",
    "    if column in ordinal_columns:\n",
    "        variable_types[column] = 'ordinal'\n",
    "    else:\n",
    "        variable_types[column] = 'nominal'\n",
    "\n",
    "# Imprimir los tipos de variables\n",
    "for column, variable_type in variable_types.items():\n",
    "    print(f\"{column}: {variable_type}\")"
   ]
  },
  {
   "cell_type": "markdown",
   "metadata": {},
   "source": [
    "b.  ¿Hay valores faltantes en el dataset? Especifica las variables que \n",
    "presentan valores faltantes y cuántos de ellos hay en cada variable. \n"
   ]
  },
  {
   "cell_type": "code",
   "execution_count": 4,
   "metadata": {},
   "outputs": [
    {
     "name": "stdout",
     "output_type": "stream",
     "text": [
      "estado_meteorológico     26\n",
      "cod_lesividad            96\n",
      "tipo_lesividad           96\n",
      "positiva_alcohol          2\n",
      "positiva_droga          887\n",
      "dtype: int64\n"
     ]
    }
   ],
   "source": [
    "# Identificar y contar valores faltantes en cada columna\n",
    "missing_values = df.isnull().sum()\n",
    "\n",
    "# Filtrar columnas con valores faltantes\n",
    "missing_values = missing_values[missing_values > 0]\n",
    "\n",
    "# Mostrar resultados\n",
    "print(missing_values)"
   ]
  },
  {
   "cell_type": "markdown",
   "metadata": {},
   "source": [
    "c.  ¿Cuántos valores distintos toma la variable ‘lesividad’? Especifica esos \n",
    "valores. ¿Qué tipo de variable es la variable ‘lesividad’? \n"
   ]
  },
  {
   "cell_type": "code",
   "execution_count": 5,
   "metadata": {},
   "outputs": [
    {
     "name": "stdout",
     "output_type": "stream",
     "text": [
      "Index(['num_expediente', 'fecha', 'hora', 'localizacion', 'numero',\n",
      "       'cod_distrito', 'distrito', 'tipo_accidente', 'estado_meteorológico',\n",
      "       'tipo_vehículo', 'tipo_persona', 'rango_edad', 'sexo', 'cod_lesividad',\n",
      "       'tipo_lesividad', 'coordenada_x_utm', 'coordenada_y_utm',\n",
      "       'positiva_alcohol', 'positiva_droga'],\n",
      "      dtype='object')\n"
     ]
    }
   ],
   "source": [
    "print(df.columns)"
   ]
  },
  {
   "cell_type": "code",
   "execution_count": 6,
   "metadata": {},
   "outputs": [
    {
     "name": "stdout",
     "output_type": "stream",
     "text": [
      "Número de valores distintos para 'tipo_lesividad': 9\n",
      "Valores distintos para 'tipo_lesividad': ['Ingreso superior a 24 horas' 'Ingreso inferior o igual a 24 horas'\n",
      " 'Asistencia sanitaria sólo en el lugar del accidente'\n",
      " 'Sin asistencia sanitaria' 'Atención en urgencias sin posterior ingreso'\n",
      " nan 'Asistencia sanitaria inmediata en centro de salud o mutua'\n",
      " 'Asistencia sanitaria ambulatoria con posterioridad' 'Fallecido 24 horas']\n",
      "Conteo de valores para 'tipo_lesividad':\n",
      "tipo_lesividad\n",
      "Asistencia sanitaria sólo en el lugar del accidente          317\n",
      "Ingreso inferior o igual a 24 horas                          132\n",
      "Sin asistencia sanitaria                                     109\n",
      "Asistencia sanitaria inmediata en centro de salud o mutua     95\n",
      "Atención en urgencias sin posterior ingreso                   80\n",
      "Asistencia sanitaria ambulatoria con posterioridad            37\n",
      "Ingreso superior a 24 horas                                   24\n",
      "Fallecido 24 horas                                             1\n",
      "Name: count, dtype: int64\n",
      "La variable 'tipo_lesividad' es de tipo: ordinal\n"
     ]
    }
   ],
   "source": [
    "# Analizar la variable 'tipo_lesividad'\n",
    "tipo_lesividad_unique_values = df['tipo_lesividad'].unique()\n",
    "tipo_lesividad_value_counts = df['tipo_lesividad'].value_counts()\n",
    "\n",
    "# Imprimir los resultados\n",
    "print(f\"Número de valores distintos para 'tipo_lesividad': {len(tipo_lesividad_unique_values)}\")\n",
    "print(f\"Valores distintos para 'tipo_lesividad': {tipo_lesividad_unique_values}\")\n",
    "print(f\"Conteo de valores para 'tipo_lesividad':\\n{tipo_lesividad_value_counts}\")\n",
    "\n",
    "# Determinar el tipo de variable 'tipo_lesividad'\n",
    "tipo_lesividad_type = 'ordinal' if len(tipo_lesividad_unique_values) <= 10 else 'nominal'\n",
    "print(f\"La variable 'tipo_lesividad' es de tipo: {tipo_lesividad_type}\")"
   ]
  },
  {
   "cell_type": "markdown",
   "metadata": {},
   "source": [
    "d.  Ve  al  PDF  de  descripción  de  los  datos,  que  se  encuentra  en  el  mismo \n",
    "enlace aportado en el enunciado. Busca el significado de los valores de \n",
    "lesividad. Explica los significados para cada uno de los valores posibles. \n",
    "¿Qué tipo de variable consideras que puede ser la variable ‘lesividad’? \n",
    "¿Tu  respuesta  en  este  apartado  es  distinta  a  tu  respuesta  del  apartado \n",
    "anterior?  ¿Cómo  codificarías  esta  variable  a  la  hora  de  utilizar  este \n",
    "DataFrame como entrada de un modelo de Machine Learning? "
   ]
  },
  {
   "cell_type": "markdown",
   "metadata": {},
   "source": [
    "Paso 2: Tipo de variable\n",
    "La variable ‘lesividad’ es una variable categórica ordinal, ya que los valores tienen un orden lógico en términos de gravedad.\n",
    "\n",
    "Paso 3: Comparación con el apartado anterior\n",
    "La respuesta es consistente con el apartado anterior, donde se identificó la variable como categórica y se proporcionó un mapeo numérico.\n",
    "\n",
    "Paso 4: Codificación para Machine Learning\n",
    "Para utilizar esta variable en un modelo de Machine Learning, se puede codificar utilizando el mapeo numérico proporcionado. Esto convierte la variable categórica en una variable numérica ordinal, lo cual es adecuado para muchos algoritmos de Machine Learning."
   ]
  },
  {
   "cell_type": "code",
   "execution_count": 7,
   "metadata": {},
   "outputs": [
    {
     "name": "stdout",
     "output_type": "stream",
     "text": [
      "                                        tipo_lesividad  tipo_lesividad_encoded\n",
      "0                          Ingreso superior a 24 horas                     3.0\n",
      "1                  Ingreso inferior o igual a 24 horas                     2.0\n",
      "2    Asistencia sanitaria sólo en el lugar del acci...                     7.0\n",
      "3                             Sin asistencia sanitaria                    14.0\n",
      "4    Asistencia sanitaria sólo en el lugar del acci...                     7.0\n",
      "..                                                 ...                     ...\n",
      "886  Asistencia sanitaria sólo en el lugar del acci...                     7.0\n",
      "887  Asistencia sanitaria inmediata en centro de sa...                     6.0\n",
      "888  Asistencia sanitaria sólo en el lugar del acci...                     7.0\n",
      "889                           Sin asistencia sanitaria                    14.0\n",
      "890  Asistencia sanitaria sólo en el lugar del acci...                     7.0\n",
      "\n",
      "[891 rows x 2 columns]\n"
     ]
    }
   ],
   "source": [
    "import pandas as pd\n",
    "\n",
    "# Supongamos que los valores de 'tipo_lesividad' son los siguientes\n",
    "lesividad_mapping = {\n",
    "    'Atención en urgencias sin posterior ingreso': 1,\n",
    "    'Ingreso inferior o igual a 24 horas': 2,\n",
    "    'Ingreso superior a 24 horas': 3,\n",
    "    'Fallecido 24 horas': 4,\n",
    "    'Asistencia sanitaria ambulatoria con posterioridad': 5,\n",
    "    'Asistencia sanitaria inmediata en centro de salud o mutua': 6,\n",
    "    'Asistencia sanitaria sólo en el lugar del accidente': 7,\n",
    "    'Sin asistencia sanitaria': 14,\n",
    "    'Se desconoce': 77,\n",
    "    # 'En blanco': 0\n",
    "}\n",
    "\n",
    "# Aplicar la codificación ordinal\n",
    "df['tipo_lesividad_encoded'] = df['tipo_lesividad'].map(lesividad_mapping).fillna(0)\n",
    "\n",
    "# Verificar la codificación\n",
    "print(df[['tipo_lesividad', 'tipo_lesividad_encoded']])\n",
    "\n",
    "# df_filtered = df[df['tipo_lesividad_encoded'].isnull()]\n",
    "# print(df_filtered[['tipo_lesividad', 'tipo_lesividad_encoded']])\n",
    "\n",
    "\n",
    "\n",
    "\n",
    "\n"
   ]
  },
  {
   "cell_type": "markdown",
   "metadata": {},
   "source": [
    "e.  Sin tener en cuenta los valores faltantes, ¿qué proporción de los \n",
    "accidentes registrados presentaban un test de alcohol positivo?"
   ]
  },
  {
   "cell_type": "code",
   "execution_count": 8,
   "metadata": {},
   "outputs": [
    {
     "name": "stdout",
     "output_type": "stream",
     "text": [
      "La proporción de accidentes con test de alcohol positivo es: 1.24%\n"
     ]
    }
   ],
   "source": [
    "# Filtrar los valores no nulos en la columna 'positiva_alcohol'\n",
    "df_alcohol = df['positiva_alcohol'].dropna()\n",
    "\n",
    "# Calcular la proporción de accidentes con test de alcohol positivo\n",
    "proporcion_positiva = (df_alcohol == 'S').mean()\n",
    "\n",
    "# Mostrar la proporción\n",
    "print(f\"La proporción de accidentes con test de alcohol positivo es: {proporcion_positiva:.2%}\")"
   ]
  }
 ],
 "metadata": {
  "kernelspec": {
   "display_name": "Python 3",
   "language": "python",
   "name": "python3"
  },
  "language_info": {
   "codemirror_mode": {
    "name": "ipython",
    "version": 3
   },
   "file_extension": ".py",
   "mimetype": "text/x-python",
   "name": "python",
   "nbconvert_exporter": "python",
   "pygments_lexer": "ipython3",
   "version": "3.10.14"
  }
 },
 "nbformat": 4,
 "nbformat_minor": 2
}
